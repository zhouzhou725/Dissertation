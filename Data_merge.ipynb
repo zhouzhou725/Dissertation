{
 "cells": [
  {
   "cell_type": "code",
   "execution_count": 1,
   "id": "8c3a5d0f-de1d-4d89-9816-ab12259fbd05",
   "metadata": {},
   "outputs": [],
   "source": [
    "import pandas as pd\n",
    "\n",
    "imd_df = pd.read_csv('ID 2019 for London.csv')\n",
    "pop_df = pd.read_csv('population_mid-2021.csv')\n",
    "lookup_df = pd.read_csv('LSOA_(2011)_to_LSOA_(2021)_to_Local_Authority_District_(2022)_Exact_Fit_Lookup_for_EW_(V3).csv')"
   ]
  },
  {
   "cell_type": "code",
   "execution_count": 2,
   "id": "a27c3747-f88f-4452-b501-bfca12aaee1e",
   "metadata": {},
   "outputs": [],
   "source": [
    "# Keep required fields\n",
    "imd_df = imd_df[['LSOA code (2011)', 'Index of Multiple Deprivation (IMD) Score']]\n",
    "\n",
    "# Merge and convert 2011 codes to 2021 codes\n",
    "imd_df = imd_df.merge(lookup_df[['LSOA11CD', 'LSOA21CD']], \n",
    "                      left_on='LSOA code (2011)', right_on='LSOA11CD', how='left')\n",
    "\n",
    "# Keep only 2021 codes and IMD scores\n",
    "imd_df = imd_df[['LSOA21CD', 'Index of Multiple Deprivation (IMD) Score']]"
   ]
  },
  {
   "cell_type": "code",
   "execution_count": 3,
   "id": "7f6d50d4-42ad-4db9-828b-b67db8d6667f",
   "metadata": {},
   "outputs": [
    {
     "data": {
      "text/html": [
       "<div>\n",
       "<style scoped>\n",
       "    .dataframe tbody tr th:only-of-type {\n",
       "        vertical-align: middle;\n",
       "    }\n",
       "\n",
       "    .dataframe tbody tr th {\n",
       "        vertical-align: top;\n",
       "    }\n",
       "\n",
       "    .dataframe thead th {\n",
       "        text-align: right;\n",
       "    }\n",
       "</style>\n",
       "<table border=\"1\" class=\"dataframe\">\n",
       "  <thead>\n",
       "    <tr style=\"text-align: right;\">\n",
       "      <th></th>\n",
       "      <th>LSOA21CD</th>\n",
       "      <th>Index of Multiple Deprivation (IMD) Score</th>\n",
       "    </tr>\n",
       "  </thead>\n",
       "  <tbody>\n",
       "    <tr>\n",
       "      <th>0</th>\n",
       "      <td>E01000001</td>\n",
       "      <td>6.2</td>\n",
       "    </tr>\n",
       "    <tr>\n",
       "      <th>1</th>\n",
       "      <td>E01000002</td>\n",
       "      <td>5.1</td>\n",
       "    </tr>\n",
       "    <tr>\n",
       "      <th>2</th>\n",
       "      <td>E01000003</td>\n",
       "      <td>19.4</td>\n",
       "    </tr>\n",
       "    <tr>\n",
       "      <th>3</th>\n",
       "      <td>E01000005</td>\n",
       "      <td>28.7</td>\n",
       "    </tr>\n",
       "    <tr>\n",
       "      <th>4</th>\n",
       "      <td>E01032739</td>\n",
       "      <td>13.6</td>\n",
       "    </tr>\n",
       "    <tr>\n",
       "      <th>...</th>\n",
       "      <td>...</td>\n",
       "      <td>...</td>\n",
       "    </tr>\n",
       "    <tr>\n",
       "      <th>5011</th>\n",
       "      <td>E01033604</td>\n",
       "      <td>33.5</td>\n",
       "    </tr>\n",
       "    <tr>\n",
       "      <th>5012</th>\n",
       "      <td>E01033605</td>\n",
       "      <td>40.5</td>\n",
       "    </tr>\n",
       "    <tr>\n",
       "      <th>5013</th>\n",
       "      <td>E01035717</td>\n",
       "      <td>14.0</td>\n",
       "    </tr>\n",
       "    <tr>\n",
       "      <th>5014</th>\n",
       "      <td>E01035717</td>\n",
       "      <td>22.2</td>\n",
       "    </tr>\n",
       "    <tr>\n",
       "      <th>5015</th>\n",
       "      <td>E01035715</td>\n",
       "      <td>15.1</td>\n",
       "    </tr>\n",
       "  </tbody>\n",
       "</table>\n",
       "<p>5016 rows × 2 columns</p>\n",
       "</div>"
      ],
      "text/plain": [
       "       LSOA21CD  Index of Multiple Deprivation (IMD) Score\n",
       "0     E01000001                                        6.2\n",
       "1     E01000002                                        5.1\n",
       "2     E01000003                                       19.4\n",
       "3     E01000005                                       28.7\n",
       "4     E01032739                                       13.6\n",
       "...         ...                                        ...\n",
       "5011  E01033604                                       33.5\n",
       "5012  E01033605                                       40.5\n",
       "5013  E01035717                                       14.0\n",
       "5014  E01035717                                       22.2\n",
       "5015  E01035715                                       15.1\n",
       "\n",
       "[5016 rows x 2 columns]"
      ]
     },
     "execution_count": 3,
     "metadata": {},
     "output_type": "execute_result"
    }
   ],
   "source": [
    "imd_df"
   ]
  },
  {
   "cell_type": "code",
   "execution_count": 4,
   "id": "45776c34-aeac-48bc-839e-977503da96fd",
   "metadata": {},
   "outputs": [],
   "source": [
    "# Convert strings to numeric values and remove thousand separators\n",
    "pop_df['Total'] = pop_df['Total'].str.replace(',', '').astype(int)\n",
    "pop_df['F65 and over'] = pop_df['F65 and over'].astype(int)\n",
    "pop_df['M65 and over'] = pop_df['M65 and over'].astype(int)\n",
    "\n",
    "# Calculate total population aged 65+ and its proportion\n",
    "pop_df['pop_65plus'] = (pop_df['F65 and over'] + pop_df['M65 and over']) / pop_df['Total']"
   ]
  },
  {
   "cell_type": "code",
   "execution_count": 5,
   "id": "cbba5bba-7f2e-4c3b-86e6-e805dda16f6f",
   "metadata": {},
   "outputs": [
    {
     "data": {
      "text/plain": [
       "0        0.169364\n",
       "1        0.162970\n",
       "2        0.128013\n",
       "3        0.201863\n",
       "4        0.146193\n",
       "           ...   \n",
       "35667    0.253700\n",
       "35668    0.227210\n",
       "35669    0.156352\n",
       "35670    0.188615\n",
       "35671    0.180496\n",
       "Name: pop_65plus, Length: 35672, dtype: float64"
      ]
     },
     "execution_count": 5,
     "metadata": {},
     "output_type": "execute_result"
    }
   ],
   "source": [
    "pop_df['pop_65plus']"
   ]
  },
  {
   "cell_type": "code",
   "execution_count": 6,
   "id": "10b7acd5-5808-4277-88bb-137173fee0bc",
   "metadata": {},
   "outputs": [],
   "source": [
    "# Merge by LSOA21CD\n",
    "final_df = imd_df.merge(pop_df[['LSOA 2021 Code', 'pop_65plus']], \n",
    "                        left_on='LSOA21CD', right_on='LSOA 2021 Code', how='inner')\n",
    "\n",
    "# Group data by LSOA21CD\n",
    "final_df = final_df[['LSOA21CD', 'Index of Multiple Deprivation (IMD) Score', 'pop_65plus']]\n"
   ]
  },
  {
   "cell_type": "code",
   "execution_count": 7,
   "id": "476b8bf7-2bc7-4b3e-9fa5-2c4ecceaa5f4",
   "metadata": {},
   "outputs": [
    {
     "data": {
      "text/html": [
       "<div>\n",
       "<style scoped>\n",
       "    .dataframe tbody tr th:only-of-type {\n",
       "        vertical-align: middle;\n",
       "    }\n",
       "\n",
       "    .dataframe tbody tr th {\n",
       "        vertical-align: top;\n",
       "    }\n",
       "\n",
       "    .dataframe thead th {\n",
       "        text-align: right;\n",
       "    }\n",
       "</style>\n",
       "<table border=\"1\" class=\"dataframe\">\n",
       "  <thead>\n",
       "    <tr style=\"text-align: right;\">\n",
       "      <th></th>\n",
       "      <th>LSOA21CD</th>\n",
       "      <th>Index of Multiple Deprivation (IMD) Score</th>\n",
       "      <th>pop_65plus</th>\n",
       "    </tr>\n",
       "  </thead>\n",
       "  <tbody>\n",
       "    <tr>\n",
       "      <th>0</th>\n",
       "      <td>E01000001</td>\n",
       "      <td>6.2</td>\n",
       "      <td>0.260013</td>\n",
       "    </tr>\n",
       "    <tr>\n",
       "      <th>1</th>\n",
       "      <td>E01000002</td>\n",
       "      <td>5.1</td>\n",
       "      <td>0.208244</td>\n",
       "    </tr>\n",
       "    <tr>\n",
       "      <th>2</th>\n",
       "      <td>E01000003</td>\n",
       "      <td>19.4</td>\n",
       "      <td>0.197516</td>\n",
       "    </tr>\n",
       "    <tr>\n",
       "      <th>3</th>\n",
       "      <td>E01000005</td>\n",
       "      <td>28.7</td>\n",
       "      <td>0.085145</td>\n",
       "    </tr>\n",
       "    <tr>\n",
       "      <th>4</th>\n",
       "      <td>E01032739</td>\n",
       "      <td>13.6</td>\n",
       "      <td>0.025107</td>\n",
       "    </tr>\n",
       "    <tr>\n",
       "      <th>...</th>\n",
       "      <td>...</td>\n",
       "      <td>...</td>\n",
       "      <td>...</td>\n",
       "    </tr>\n",
       "    <tr>\n",
       "      <th>5011</th>\n",
       "      <td>E01033604</td>\n",
       "      <td>33.5</td>\n",
       "      <td>0.083893</td>\n",
       "    </tr>\n",
       "    <tr>\n",
       "      <th>5012</th>\n",
       "      <td>E01033605</td>\n",
       "      <td>40.5</td>\n",
       "      <td>0.120337</td>\n",
       "    </tr>\n",
       "    <tr>\n",
       "      <th>5013</th>\n",
       "      <td>E01035717</td>\n",
       "      <td>14.0</td>\n",
       "      <td>0.114616</td>\n",
       "    </tr>\n",
       "    <tr>\n",
       "      <th>5014</th>\n",
       "      <td>E01035717</td>\n",
       "      <td>22.2</td>\n",
       "      <td>0.114616</td>\n",
       "    </tr>\n",
       "    <tr>\n",
       "      <th>5015</th>\n",
       "      <td>E01035715</td>\n",
       "      <td>15.1</td>\n",
       "      <td>0.126255</td>\n",
       "    </tr>\n",
       "  </tbody>\n",
       "</table>\n",
       "<p>5016 rows × 3 columns</p>\n",
       "</div>"
      ],
      "text/plain": [
       "       LSOA21CD  Index of Multiple Deprivation (IMD) Score  pop_65plus\n",
       "0     E01000001                                        6.2    0.260013\n",
       "1     E01000002                                        5.1    0.208244\n",
       "2     E01000003                                       19.4    0.197516\n",
       "3     E01000005                                       28.7    0.085145\n",
       "4     E01032739                                       13.6    0.025107\n",
       "...         ...                                        ...         ...\n",
       "5011  E01033604                                       33.5    0.083893\n",
       "5012  E01033605                                       40.5    0.120337\n",
       "5013  E01035717                                       14.0    0.114616\n",
       "5014  E01035717                                       22.2    0.114616\n",
       "5015  E01035715                                       15.1    0.126255\n",
       "\n",
       "[5016 rows x 3 columns]"
      ]
     },
     "execution_count": 7,
     "metadata": {},
     "output_type": "execute_result"
    }
   ],
   "source": [
    "final_df"
   ]
  },
  {
   "cell_type": "code",
   "execution_count": null,
   "id": "857a9277-2bc6-4944-8fab-1354c3cf3c80",
   "metadata": {},
   "outputs": [
    {
     "name": "stdout",
     "output_type": "stream",
     "text": [
      "Merge completed, results saved to IMD_65plus_merged.csv.csv\n"
     ]
    }
   ],
   "source": [
    "final_df.to_csv('IMD_65plus_merged.csv', index=False)\n",
    "\n",
    "print(\"Merge completed\")"
   ]
  },
  {
   "cell_type": "markdown",
   "id": "49409a3f",
   "metadata": {},
   "source": []
  }
 ],
 "metadata": {
  "kernelspec": {
   "display_name": "Python (urbsim)",
   "language": "python",
   "name": "urbsim"
  },
  "language_info": {
   "codemirror_mode": {
    "name": "ipython",
    "version": 3
   },
   "file_extension": ".py",
   "mimetype": "text/x-python",
   "name": "python",
   "nbconvert_exporter": "python",
   "pygments_lexer": "ipython3",
   "version": "3.12.8"
  }
 },
 "nbformat": 4,
 "nbformat_minor": 5
}
